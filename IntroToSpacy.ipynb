{
  "cells": [
    {
      "cell_type": "markdown",
      "metadata": {
        "id": "view-in-github",
        "colab_type": "text"
      },
      "source": [
        "<a href=\"https://colab.research.google.com/github/jkwinch/ProgrammingAssignment2/blob/master/IntroToSpacy.ipynb\" target=\"_parent\"><img src=\"https://colab.research.google.com/assets/colab-badge.svg\" alt=\"Open In Colab\"/></a>"
      ]
    },
    {
      "cell_type": "markdown",
      "id": "5a990aba-cb3d-48ac-a02a-59740e9162ff",
      "metadata": {
        "id": "5a990aba-cb3d-48ac-a02a-59740e9162ff"
      },
      "source": [
        "# **Introduction to Spacy**"
      ]
    },
    {
      "cell_type": "markdown",
      "id": "9d915ab1-527d-4ec6-bb1c-25432e66f665",
      "metadata": {
        "id": "9d915ab1-527d-4ec6-bb1c-25432e66f665"
      },
      "source": [
        "# How to install spacy\n",
        "(Ref: https://spacy.io/usage)\n",
        "Run the following commands one at a time.  \n",
        "These need to be executed only once on your computer.  "
      ]
    },
    {
      "cell_type": "code",
      "execution_count": null,
      "id": "cbaaad8d-46e6-43d0-9890-35f79d9cdc49",
      "metadata": {
        "id": "cbaaad8d-46e6-43d0-9890-35f79d9cdc49"
      },
      "outputs": [],
      "source": [
        "!pip install -U pip setuptools wheel\n",
        "# -U means upgrade to the latest version. If this gives errors, try it without the -U."
      ]
    },
    {
      "cell_type": "code",
      "execution_count": null,
      "id": "56963a1a-84f1-4173-877a-d25794e37df1",
      "metadata": {
        "id": "56963a1a-84f1-4173-877a-d25794e37df1"
      },
      "outputs": [],
      "source": [
        "# For Windows or Mac with Intel processor:\n",
        "!pip install -U spacy"
      ]
    },
    {
      "cell_type": "code",
      "execution_count": null,
      "id": "e0f71357-b2b7-455f-827b-d3c59de12348",
      "metadata": {
        "id": "e0f71357-b2b7-455f-827b-d3c59de12348"
      },
      "outputs": [],
      "source": [
        "# For Mac with ARM/M1 processor:\n",
        "!pip install -U spacy 'spacy[apple]'"
      ]
    },
    {
      "cell_type": "markdown",
      "id": "83e472b7-66cf-4195-8dcc-8d2099300585",
      "metadata": {
        "id": "83e472b7-66cf-4195-8dcc-8d2099300585"
      },
      "source": [
        "For text processing, we need to download a pipeline package in English. A pipeline package contains the data and the statistical models for a specific language.\n",
        "We will use **en_core_web_sm**: a small English pipeline with core capabilities and trained on web text. It needs to be downloaded only once on your computer.   "
      ]
    },
    {
      "cell_type": "code",
      "execution_count": null,
      "id": "9f82872f-4e3d-48b4-a767-ffcb46788b95",
      "metadata": {
        "id": "9f82872f-4e3d-48b4-a767-ffcb46788b95"
      },
      "outputs": [],
      "source": [
        "!python -m spacy download en_core_web_sm"
      ]
    },
    {
      "cell_type": "markdown",
      "id": "5c67a75c-1de3-4b60-96be-252fe869bde1",
      "metadata": {
        "id": "5c67a75c-1de3-4b60-96be-252fe869bde1"
      },
      "source": [
        "# Get Started"
      ]
    },
    {
      "cell_type": "code",
      "execution_count": null,
      "id": "f67e9cea-b23a-4217-89d3-0f06068710eb",
      "metadata": {
        "id": "f67e9cea-b23a-4217-89d3-0f06068710eb"
      },
      "outputs": [],
      "source": [
        "import spacy"
      ]
    },
    {
      "cell_type": "markdown",
      "id": "a33e99af-2e46-4a04-8093-4647cfc839b9",
      "metadata": {
        "id": "a33e99af-2e46-4a04-8093-4647cfc839b9"
      },
      "source": [
        "We initialize an 'nlp' object with the small English pipeline with the following command. This nlp can be used to process text data."
      ]
    },
    {
      "cell_type": "code",
      "execution_count": null,
      "id": "222fd94a-9d07-414f-8ebe-46727e59eedc",
      "metadata": {
        "id": "222fd94a-9d07-414f-8ebe-46727e59eedc"
      },
      "outputs": [],
      "source": [
        "nlp = spacy.load('en_core_web_sm')"
      ]
    },
    {
      "cell_type": "markdown",
      "id": "1f571aa6-70c9-4092-927c-9502906c5450",
      "metadata": {
        "id": "1f571aa6-70c9-4092-927c-9502906c5450"
      },
      "source": [
        "To process a text, we first construct a Doc object of the text.  \n",
        "Doc object is a sequence of Token objects. Each Token object has information about a particular piece - like a word - of text. We give it a name like *doc*."
      ]
    },
    {
      "cell_type": "code",
      "execution_count": null,
      "id": "ab6acd82-2955-4143-9a72-cc5af1ce91c5",
      "metadata": {
        "id": "ab6acd82-2955-4143-9a72-cc5af1ce91c5"
      },
      "outputs": [],
      "source": [
        "text = \"Children made tasty snacks.\""
      ]
    },
    {
      "cell_type": "code",
      "execution_count": null,
      "id": "e7618b66-30d3-4dd5-816a-0184b508f659",
      "metadata": {
        "id": "e7618b66-30d3-4dd5-816a-0184b508f659"
      },
      "outputs": [],
      "source": []
    },
    {
      "cell_type": "code",
      "execution_count": null,
      "id": "dddc4616-1617-4dd7-9b3d-ddc55f2957ce",
      "metadata": {
        "id": "dddc4616-1617-4dd7-9b3d-ddc55f2957ce"
      },
      "outputs": [],
      "source": [
        "doc = nlp(text)"
      ]
    },
    {
      "cell_type": "code",
      "execution_count": null,
      "id": "8312c666-f7dd-4393-8fc5-72d058d3ae3c",
      "metadata": {
        "id": "8312c666-f7dd-4393-8fc5-72d058d3ae3c"
      },
      "outputs": [],
      "source": [
        "token_list = []\n",
        "for token in doc:\n",
        "    token_list.append(token.text)\n",
        "token_list"
      ]
    },
    {
      "cell_type": "code",
      "execution_count": null,
      "id": "44240fe8-745a-49af-bbd9-4746a4c6d81c",
      "metadata": {
        "id": "44240fe8-745a-49af-bbd9-4746a4c6d81c"
      },
      "outputs": [],
      "source": [
        "# Short hand \"list comprehension\"\n",
        "[token.text for token in doc]"
      ]
    },
    {
      "cell_type": "markdown",
      "id": "c30ae382-8b88-4fad-86a6-b916497d38b7",
      "metadata": {
        "id": "c30ae382-8b88-4fad-86a6-b916497d38b7"
      },
      "source": [
        "# Lemmatization   \n",
        "A lemma is the base form or root form of a word. Lemmatization is the process of reducing word forms to their lemma.  \n",
        "Example: For all these words, \"running,\" \"ran\", and \"runs,\" the lemma is \"run.\"  "
      ]
    },
    {
      "cell_type": "code",
      "execution_count": null,
      "id": "e431c314-d981-4e22-b042-1b37a1cd720f",
      "metadata": {
        "id": "e431c314-d981-4e22-b042-1b37a1cd720f"
      },
      "outputs": [],
      "source": [
        "for token in doc:\n",
        "    print(token.text, token.lemma_)"
      ]
    },
    {
      "cell_type": "markdown",
      "id": "e4452a23-50f4-426d-9a68-767b6515c16d",
      "metadata": {
        "id": "e4452a23-50f4-426d-9a68-767b6515c16d"
      },
      "source": [
        "# Parts of Speech Tagging\n",
        "Spacy can predict the parts of speech of the words in the text such as noun, pronoun, verb, adjective, adverb, etc. Use .pos_ for this. The underscore is needed to get the result in text form, not in a number format."
      ]
    },
    {
      "cell_type": "code",
      "execution_count": null,
      "id": "cb3d8e90-23ea-41d9-a89b-71fe8ebe20db",
      "metadata": {
        "id": "cb3d8e90-23ea-41d9-a89b-71fe8ebe20db"
      },
      "outputs": [],
      "source": [
        "for token in doc:\n",
        "    print(token.text, token.pos_)"
      ]
    },
    {
      "cell_type": "code",
      "execution_count": null,
      "id": "af090a02-7748-4bce-803b-2b4655d4a07f",
      "metadata": {
        "id": "af090a02-7748-4bce-803b-2b4655d4a07f"
      },
      "outputs": [],
      "source": [
        "# With f-string formatting for aligning columns of text\n",
        "for token in doc:\n",
        "    print(f\"{token.text:<12}{token.pos_:<10}\")\n"
      ]
    },
    {
      "cell_type": "markdown",
      "id": "bd8e3ad9-ba55-454e-86ca-4fa5e28d5558",
      "metadata": {
        "id": "bd8e3ad9-ba55-454e-86ca-4fa5e28d5558"
      },
      "source": [
        "### Common Parts of Speech\n",
        "- NOUN - Noun: A person, place, thing, or idea\n",
        "- PRON - Pronoun: A word that substitutes for a noun or noun phrase\n",
        "- VERB - Verb: Expresses action or state of being\n",
        "- ADJ - Adjective: Modifies or describes a noun or pronoun\n",
        "- ADV - Adverb: Modifies or describes a verb, adjective, or another adverb\n",
        "- ADP - Adposition: Prepositions and postpositions\n",
        "- CONJ - Conjunction: Connects words, phrases, or clauses\n",
        "- DET - Determiner: Specifies the kind of reference a noun or noun phrase has\n",
        "- NUM - Numeral: Expresses numbers and quantities\n",
        "- PRT - Particle: Function words that must be associated with another word or phrase to impart meaning\n",
        "- PUNCT - Punctuation: Marks like commas, periods, and question marks\n",
        "- SYM - Symbol: Represents a mathematical, scientific, or currency symbol\n",
        "- X - Other: A token that does not fit into any other POS category\n",
        "- SPACE - Space: A space character or sequence of space characters (not visible in text)"
      ]
    },
    {
      "cell_type": "markdown",
      "id": "4abe3ad7-3086-45b4-b2fe-b2c8bc1b8b84",
      "metadata": {
        "id": "4abe3ad7-3086-45b4-b2fe-b2c8bc1b8b84"
      },
      "source": [
        "# Dependency Parsing  \n",
        "Spacy can extract the grammatical structure in a sentence.  \n",
        "The main verb in the sentence is the ROOT.\n",
        "The subject of this verb is nsubj.   \n",
        "The object of this verb is dobj.   \n"
      ]
    },
    {
      "cell_type": "code",
      "execution_count": null,
      "id": "3b4138d5-53a7-4fd8-9407-6f2972d1a5cb",
      "metadata": {
        "id": "3b4138d5-53a7-4fd8-9407-6f2972d1a5cb"
      },
      "outputs": [],
      "source": [
        "for token in doc:\n",
        "    print(f\"{token.text:<12}{token.dep_:<10}\")"
      ]
    },
    {
      "cell_type": "markdown",
      "id": "bc2d8086-fa23-4a58-bc27-2e88401dee84",
      "metadata": {
        "id": "bc2d8086-fa23-4a58-bc27-2e88401dee84"
      },
      "source": [
        "### Common Dependency Tags  \n",
        "- nsubj - Nominal subject\n",
        "- dobj - Direct object\n",
        "- iobj - Indirect object\n",
        "- attr - Attribute\n",
        "- ROOT - The central word in the sentence from which all other words radiate and depend\n",
        "- aux - Auxiliary verb\n",
        "- advmod - Adverbial modifier\n",
        "- amod - Adjectival modifier\n",
        "- conj - Conjunction\n",
        "- cc - Coordinating conjunction\n",
        "- prep - Prepositional modifier\n",
        "- pobj - Object of the preposition"
      ]
    },
    {
      "cell_type": "markdown",
      "id": "6b4c584e-3fa1-4be2-ac97-d234a2ef2b29",
      "metadata": {
        "id": "6b4c584e-3fa1-4be2-ac97-d234a2ef2b29"
      },
      "source": [
        "We can create a visualization with *displacy*. The arrow from each word points to its \"child.\"  The child of a word is the word that modifies and depends on that word."
      ]
    },
    {
      "cell_type": "code",
      "execution_count": null,
      "id": "db5abd0c-6412-4dfc-8f7e-0e8017446cd0",
      "metadata": {
        "id": "db5abd0c-6412-4dfc-8f7e-0e8017446cd0"
      },
      "outputs": [],
      "source": [
        "from spacy import displacy\n",
        "displacy.render(doc, style = \"dep\")"
      ]
    },
    {
      "cell_type": "code",
      "execution_count": null,
      "id": "b81f3ea2-ede3-457b-8467-45d5f2213ae8",
      "metadata": {
        "id": "b81f3ea2-ede3-457b-8467-45d5f2213ae8"
      },
      "outputs": [],
      "source": []
    },
    {
      "cell_type": "code",
      "execution_count": null,
      "id": "828bf162-c18d-4014-94e1-15f4cb0d58ba",
      "metadata": {
        "id": "828bf162-c18d-4014-94e1-15f4cb0d58ba"
      },
      "outputs": [],
      "source": []
    },
    {
      "cell_type": "markdown",
      "id": "2f283ad1-b39a-4901-b69d-664463131c4b",
      "metadata": {
        "id": "2f283ad1-b39a-4901-b69d-664463131c4b"
      },
      "source": [
        "# Named Entity Recognition (NER)  \n",
        "Process of locating named entities and classifying them into predefined categories, such as person names, organization, locations, monetary values, percentagees, and time expressions.   "
      ]
    },
    {
      "cell_type": "code",
      "execution_count": null,
      "id": "56da92ae-b9d6-43a1-9ce9-697949b33c13",
      "metadata": {
        "id": "56da92ae-b9d6-43a1-9ce9-697949b33c13"
      },
      "outputs": [],
      "source": [
        "text = \"It’s official: Apple is the first U.S. public company to reach a $1 trillion market value.\""
      ]
    },
    {
      "cell_type": "code",
      "execution_count": null,
      "id": "5457a2ef-2bca-4a38-9995-9fbf3c7849c7",
      "metadata": {
        "id": "5457a2ef-2bca-4a38-9995-9fbf3c7849c7"
      },
      "outputs": [],
      "source": [
        "doc = nlp(text)"
      ]
    },
    {
      "cell_type": "code",
      "execution_count": null,
      "id": "7c5b45eb-41b6-4776-9d8e-35b4a5d2c91e",
      "metadata": {
        "id": "7c5b45eb-41b6-4776-9d8e-35b4a5d2c91e"
      },
      "outputs": [],
      "source": [
        "for token in doc:\n",
        "    if token.ent_type != 0:\n",
        "         print(f\"{token.text:<12}{token.ent_type_:<10}\")"
      ]
    },
    {
      "cell_type": "code",
      "execution_count": null,
      "id": "d96ba047-c318-4f2a-af38-472d7f4f49a3",
      "metadata": {
        "id": "d96ba047-c318-4f2a-af38-472d7f4f49a3"
      },
      "outputs": [],
      "source": [
        "displacy.render(doc, style = \"ent\")"
      ]
    },
    {
      "cell_type": "markdown",
      "id": "5ad8b91e-76f0-4fbd-afbc-8583b146fa36",
      "metadata": {
        "id": "5ad8b91e-76f0-4fbd-afbc-8583b146fa36"
      },
      "source": [
        "## NER Predefined Categories\n",
        "- PERSON: People, including fictional.\n",
        "- NORP: Nationalities or religious or political groups.\n",
        "- FAC: Buildings, airports, highways, bridges, etc.\n",
        "- ORG: Companies, agencies, institutions, etc.\n",
        "- GPE: Countries, cities, states.\n",
        "- LOC: Non-GPE locations, mountain ranges, bodies of water.\n",
        "- PRODUCT: Objects, vehicles, foods, etc. (Not services.)\n",
        "- EVENT: Named hurricanes, battles, wars, sports events, etc.\n",
        "- WORK_OF_ART: Titles of books, songs, etc.\n",
        "- LAW: Named documents made into laws.\n",
        "- LANGUAGE: Any named language.\n",
        "- DATE: Absolute or relative dates or periods.\n",
        "- TIME: Times smaller than a day.\n",
        "- PERCENT: Percentage, including \"%\".\n",
        "- MONEY: Monetary values, including unit.\n",
        "- QUANTITY: Measurements, as of weight or distance.\n",
        "- ORDINAL: \"first\", \"second\", etc.\n",
        "- CARDINAL: Numerals that do not fall under another type."
      ]
    },
    {
      "cell_type": "markdown",
      "id": "079d495b-5cbe-4ca1-879c-0782d69aa7a2",
      "metadata": {
        "id": "079d495b-5cbe-4ca1-879c-0782d69aa7a2"
      },
      "source": [
        "# Sentence Detection  \n"
      ]
    },
    {
      "cell_type": "code",
      "execution_count": null,
      "id": "5314e671-a12d-4aab-a8b9-0914a4e66549",
      "metadata": {
        "id": "5314e671-a12d-4aab-a8b9-0914a4e66549"
      },
      "outputs": [],
      "source": [
        "#file = \"nigerianprince.txt\""
      ]
    },
    {
      "cell_type": "code",
      "execution_count": null,
      "id": "282985fa-1bb1-4be1-9d14-8f3eb7fd1ef4",
      "metadata": {
        "id": "282985fa-1bb1-4be1-9d14-8f3eb7fd1ef4"
      },
      "outputs": [],
      "source": [
        "file = \"genz_work.txt\""
      ]
    },
    {
      "cell_type": "code",
      "execution_count": null,
      "id": "d246daf3-6838-4770-898e-682a94ce4ec6",
      "metadata": {
        "id": "d246daf3-6838-4770-898e-682a94ce4ec6"
      },
      "outputs": [],
      "source": []
    },
    {
      "cell_type": "code",
      "execution_count": null,
      "id": "89637481-7764-488c-b6f3-23a41b8da842",
      "metadata": {
        "id": "89637481-7764-488c-b6f3-23a41b8da842"
      },
      "outputs": [],
      "source": [
        "# Read in a text from a file\n",
        "with open(file, \"r\") as f:\n",
        "    text = f.read()"
      ]
    },
    {
      "cell_type": "code",
      "execution_count": null,
      "id": "2696b05b-e67b-4f18-aad8-96beb0d72307",
      "metadata": {
        "id": "2696b05b-e67b-4f18-aad8-96beb0d72307"
      },
      "outputs": [],
      "source": [
        "doc = nlp(text)"
      ]
    },
    {
      "cell_type": "code",
      "execution_count": null,
      "id": "ae87c6ea-0378-41bf-aa30-d1303e5490a9",
      "metadata": {
        "id": "ae87c6ea-0378-41bf-aa30-d1303e5490a9"
      },
      "outputs": [],
      "source": [
        "sentences = list(doc.sents)\n",
        "len(sentences)"
      ]
    },
    {
      "cell_type": "code",
      "execution_count": null,
      "id": "9b5e432f-24df-4fdd-9138-801ebf5d3ea9",
      "metadata": {
        "scrolled": true,
        "id": "9b5e432f-24df-4fdd-9138-801ebf5d3ea9"
      },
      "outputs": [],
      "source": [
        "for sentence in sentences:\n",
        "    print(sentence.text)"
      ]
    },
    {
      "cell_type": "code",
      "execution_count": null,
      "id": "918f9dda-990f-417f-9496-8470620d8248",
      "metadata": {
        "scrolled": true,
        "id": "918f9dda-990f-417f-9496-8470620d8248"
      },
      "outputs": [],
      "source": [
        "# Numbered sentences\n",
        "for index, sentence in enumerate(sentences):\n",
        "    print(f\"{index}: {sentence.text}\")"
      ]
    },
    {
      "cell_type": "markdown",
      "id": "7ef7454b-4e61-4b4a-8fcb-a9470226fe4c",
      "metadata": {
        "id": "7ef7454b-4e61-4b4a-8fcb-a9470226fe4c"
      },
      "source": [
        "# Word Frequency  \n",
        "We can use spacy to find out which words occur most frequently in a text.  \n",
        "First, we need to clean the text.  \n",
        "- Select only alpha token (not numeric, not punctuation)\n",
        "- Remove stop words (very common words that are not meaningful)\n",
        "- Lemmatize\n",
        "- Lower case"
      ]
    },
    {
      "cell_type": "code",
      "execution_count": null,
      "id": "c3c5f06b-fb4e-4102-897e-a9a8d33ce796",
      "metadata": {
        "id": "c3c5f06b-fb4e-4102-897e-a9a8d33ce796"
      },
      "outputs": [],
      "source": [
        "stop_words = nlp.Defaults.stop_words\n",
        "print(stop_words)\n",
        "len(stop_words)"
      ]
    },
    {
      "cell_type": "code",
      "execution_count": null,
      "id": "19f9fd6a-fdb9-49c9-ab64-db01d9add01d",
      "metadata": {
        "id": "19f9fd6a-fdb9-49c9-ab64-db01d9add01d"
      },
      "outputs": [],
      "source": [
        "from collections import Counter"
      ]
    },
    {
      "cell_type": "code",
      "execution_count": null,
      "id": "c80d1a61-9297-44ec-98e2-e3198dea9593",
      "metadata": {
        "id": "c80d1a61-9297-44ec-98e2-e3198dea9593"
      },
      "outputs": [],
      "source": [
        "doc = nlp(text)"
      ]
    },
    {
      "cell_type": "code",
      "execution_count": null,
      "id": "fea7c2a6-0f5b-4cc7-824f-1f0746034bdf",
      "metadata": {
        "id": "fea7c2a6-0f5b-4cc7-824f-1f0746034bdf"
      },
      "outputs": [],
      "source": []
    },
    {
      "cell_type": "code",
      "execution_count": null,
      "id": "02ebc486-c8e0-41a8-8482-00b8bede924d",
      "metadata": {
        "id": "02ebc486-c8e0-41a8-8482-00b8bede924d"
      },
      "outputs": [],
      "source": [
        "words = [\n",
        "    token.lemma_.lower()\n",
        "    for token in doc\n",
        "    if token.is_alpha and not token.is_stop]\n",
        "len(words)"
      ]
    },
    {
      "cell_type": "code",
      "execution_count": null,
      "id": "5b042d15-dbca-4d62-82b7-3789b23405fb",
      "metadata": {
        "scrolled": true,
        "id": "5b042d15-dbca-4d62-82b7-3789b23405fb"
      },
      "outputs": [],
      "source": []
    },
    {
      "cell_type": "code",
      "execution_count": null,
      "id": "985e1398-1908-4bba-8880-fe26a9ff6300",
      "metadata": {
        "id": "985e1398-1908-4bba-8880-fe26a9ff6300"
      },
      "outputs": [],
      "source": [
        "Counter(words).most_common(10)"
      ]
    },
    {
      "cell_type": "markdown",
      "id": "31f877f0-9050-4514-9682-cdac59fb1ac9",
      "metadata": {
        "id": "31f877f0-9050-4514-9682-cdac59fb1ac9"
      },
      "source": [
        "## Word Cloud - Visualization of Word Frequency"
      ]
    },
    {
      "cell_type": "code",
      "execution_count": null,
      "id": "c911ae29-a662-4006-8df7-4ce0200f0e61",
      "metadata": {
        "id": "c911ae29-a662-4006-8df7-4ce0200f0e61"
      },
      "outputs": [],
      "source": [
        "!pip install -U wordcloud"
      ]
    },
    {
      "cell_type": "code",
      "execution_count": null,
      "id": "4682525c-3130-41c7-9ca2-a57fb26cd2c5",
      "metadata": {
        "id": "4682525c-3130-41c7-9ca2-a57fb26cd2c5"
      },
      "outputs": [],
      "source": [
        "cleaned_text = \" \".join(words)"
      ]
    },
    {
      "cell_type": "code",
      "execution_count": null,
      "id": "8cb96cf5-c87a-46f8-8ac3-147f68433a42",
      "metadata": {
        "id": "8cb96cf5-c87a-46f8-8ac3-147f68433a42"
      },
      "outputs": [],
      "source": [
        "from wordcloud import WordCloud\n",
        "import matplotlib.pyplot as plt\n",
        "\n",
        "# Generate a word cloud image\n",
        "wordcloud = WordCloud(background_color=\"white\", max_words=500).generate(cleaned_text)\n",
        "\n",
        "# Display the generated image with matplotlib\n",
        "plt.figure(figsize=(10, 8))\n",
        "plt.imshow(wordcloud, interpolation='bilinear')\n",
        "plt.axis(\"off\")\n",
        "plt.show()"
      ]
    },
    {
      "cell_type": "code",
      "execution_count": null,
      "id": "5170df0e-ef04-47c0-89d4-457113645250",
      "metadata": {
        "id": "5170df0e-ef04-47c0-89d4-457113645250"
      },
      "outputs": [],
      "source": []
    }
  ],
  "metadata": {
    "kernelspec": {
      "display_name": "Python 3 (ipykernel)",
      "language": "python",
      "name": "python3"
    },
    "language_info": {
      "codemirror_mode": {
        "name": "ipython",
        "version": 3
      },
      "file_extension": ".py",
      "mimetype": "text/x-python",
      "name": "python",
      "nbconvert_exporter": "python",
      "pygments_lexer": "ipython3",
      "version": "3.11.7"
    },
    "colab": {
      "provenance": [],
      "include_colab_link": true
    }
  },
  "nbformat": 4,
  "nbformat_minor": 5
}